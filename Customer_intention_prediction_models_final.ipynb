{
 "cells": [
  {
   "cell_type": "markdown",
   "metadata": {},
   "source": [
    "# Report\n",
    "\n",
    "The goal is to identify which features are important and influence the buying intent of customers. There are 3 sets of feature and 2 models are trained on each set. The tree based model(Gradient boosted trees) will be used to determine feature importance. The model with the highest Balanced accuracy score will be selected. The neural netwrok based mode serves as reference for how good the tree based model is. Ideally the performance between the two models should be equal. \n",
    "\n",
    "\n",
    "## Model selection\n",
    "\n",
    "The hyper parameter for each model is optimized using bayesian optimization and 5 fold  stratified Cross Validation. Each model is trained on there different transformations of the original dataset. Since the data set is imbalanced be use balanced accuracy as the metric."
   ]
  },
  {
   "cell_type": "markdown",
   "metadata": {},
   "source": [
    "### Optimization and selection for gradient boosted trees"
   ]
  },
  {
   "cell_type": "code",
   "execution_count": 1,
   "metadata": {
    "scrolled": true
   },
   "outputs": [],
   "source": [
    "# imports\n",
    "import lightgbm as lgb #light gradient boosted tree\n",
    "from sklearn.model_selection import train_test_split, StratifiedKFold # train and test split\n",
    "from sklearn.metrics import balanced_accuracy_score,precision_score# metrics\n",
    "from hyperopt import fmin, tpe, hp, Trials, STATUS_OK# optimization\n",
    "import numpy as np\n",
    "import pandas as pd # reading data\n",
    "import warnings\n",
    "warnings.simplefilter(\"ignore\")"
   ]
  },
  {
   "cell_type": "code",
   "execution_count": 2,
   "metadata": {},
   "outputs": [],
   "source": [
    "# read data\n",
    "df_encoded = pd.read_csv('/Users/HP/Downloads/online_shoppers_intention_encoded.csv', index_col=False)\n",
    "df_scaled = pd.read_csv('/Users/HP/Downloads/online_shoppers_intention_encoded_scaled.csv', index_col=False)\n",
    "df_transformed = pd.read_csv('/Users/HP/Downloads/online_shoppers_intention_encoded_scaled_transformed.csv', index_col=False)"
   ]
  },
  {
   "cell_type": "code",
   "execution_count": 3,
   "metadata": {},
   "outputs": [],
   "source": [
    "#seperate label\n",
    "label = df_encoded.pop('Revenue').astype('int')\n",
    "_,_ = df_scaled.pop('Revenue'),df_transformed.pop('Revenue')"
   ]
  },
  {
   "cell_type": "code",
   "execution_count": 4,
   "metadata": {},
   "outputs": [],
   "source": [
    "#split object for CV \n",
    "skf = StratifiedKFold(n_splits=5, random_state=None, shuffle=True)\n",
    "#Hyperparameter search space for gradient boosed trees\n",
    "lgb_space = {'lr':hp.loguniform('lr',-6.9,-2.3),'num_leaves':hp.quniform('num_leaves',15,255,1),\n",
    "         'max_depth':hp.choice('max_depth',[-1,9,12]),'colsample_bytree': hp.uniform('colsample_bytree', 0.3, 1.0)}"
   ]
  },
  {
   "cell_type": "code",
   "execution_count": 5,
   "metadata": {},
   "outputs": [],
   "source": [
    "def lgb_optimizer(params):\n",
    "    '''A function to optimize  lgb classifier\n",
    "    :params:=params , dictionary containing the Hyper-parameters for the classifier\n",
    "    returns true loss and validation loss\n",
    "    '''\n",
    "    if 'num_leaves' in params:\n",
    "        params['num_leaves']=int(params['num_leaves'])\n",
    "    if 'max_depth' in params:\n",
    "        params['max_depth']=int(params['max_depth'])\n",
    "    val_score=[]\n",
    "    true_scores=[]\n",
    "    rd=1\n",
    "    for train_index, test_index in skf.split(X_train, y_train):\n",
    "        X_tr, X_val = X_train.iloc[train_index], X_train.iloc[test_index]\n",
    "        y_tr, y_val = y_train.iloc[train_index], y_train.iloc[test_index]\n",
    "        clf = lgb.LGBMClassifier(n_estimators=2000,**params)\n",
    "        clf.fit(X_tr,y_tr,eval_set=(X_val,y_val),early_stopping_rounds =200,eval_metric='logloss',verbose=False)\n",
    "        y_pred = clf.predict(X_val)\n",
    "        y_tr_pred=clf.predict(X_tr)\n",
    "        score=balanced_accuracy_score(y_val,y_pred,)\n",
    "        true_score=balanced_accuracy_score(y_tr,y_tr_pred)\n",
    "        val_score.append(score)\n",
    "        true_scores.append(true_score)\n",
    "        rd+=1\n",
    "    mean,std =np.mean(val_score),np.std(val_score)\n",
    "    true_mean=np.mean(true_scores)\n",
    "    print(\"mean: {}, Std: {}\".format(mean,std))\n",
    "    return {'loss':-mean,'status': STATUS_OK,'true_loss':-true_mean}"
   ]
  },
  {
   "cell_type": "code",
   "execution_count": 6,
   "metadata": {
    "scrolled": true
   },
   "outputs": [
    {
     "name": "stdout",
     "output_type": "stream",
     "text": [
      "mean: 0.7713629479019699, Std: 0.014022656449164981                                                                    \n",
      "mean: 0.780347780500698, Std: 0.015762279238775514                                                                     \n",
      "mean: 0.7710274330388664, Std: 0.016409413555054896                                                                    \n",
      "mean: 0.771373582703389, Std: 0.022747265106522828                                                                     \n",
      "mean: 0.7248698142846253, Std: 0.015261198257772803                                                                    \n",
      "mean: 0.7630016383342728, Std: 0.012187429265890006                                                                    \n",
      "mean: 0.7879509699413774, Std: 0.010876119830070488                                                                    \n",
      "mean: 0.7831192584881587, Std: 0.014550309308066956                                                                    \n",
      "mean: 0.7856147690023656, Std: 0.01393542053617744                                                                     \n",
      "mean: 0.778366576981091, Std: 0.007413134452175299                                                                     \n",
      "mean: 0.782279115424461, Std: 0.016387784807755133                                                                     \n",
      "mean: 0.7688100457009034, Std: 0.01797000695489897                                                                     \n",
      "mean: 0.772415824484537, Std: 0.015584137918876126                                                                     \n",
      "mean: 0.7500490687987924, Std: 0.012080863039566013                                                                    \n",
      "mean: 0.7628381423213859, Std: 0.015842937800571708                                                                    \n",
      "mean: 0.7709189918058292, Std: 0.006067726307337097                                                                    \n",
      "mean: 0.7672781031813177, Std: 0.010384748461757824                                                                    \n",
      "mean: 0.7709690041152057, Std: 0.009077773321305403                                                                    \n",
      "mean: 0.7668021364578739, Std: 0.009697249423539762                                                                    \n",
      "mean: 0.7576981216016436, Std: 0.005370871720365814                                                                    \n",
      "100%|███████████████████████████████████████████████| 20/20 [03:03<00:00,  9.16s/trial, best loss: -0.7879509699413774]\n"
     ]
    }
   ],
   "source": [
    "#split into train and test and call the fmin(optimizer) function for encoded dataset\n",
    "X_train,X_test,y_train,y_test = train_test_split(df_encoded,label,test_size=0.2,random_state=42)\n",
    "trials_encoded = Trials()\n",
    "best_e= fmin(lgb_optimizer,lgb_space, algo=tpe.suggest, max_evals=20, trials=trials_encoded)"
   ]
  },
  {
   "cell_type": "code",
   "execution_count": 7,
   "metadata": {},
   "outputs": [
    {
     "name": "stdout",
     "output_type": "stream",
     "text": [
      "mean: 0.7787378702654202, Std: 0.01093795296107058                                                                     \n",
      "mean: 0.754637217056172, Std: 0.01431626225654564                                                                      \n",
      "mean: 0.7816760746960459, Std: 0.0074380866995027795                                                                   \n",
      "mean: 0.7526548700767182, Std: 0.01655363420291347                                                                     \n",
      "mean: 0.7555656064773564, Std: 0.013372533498388892                                                                    \n",
      "mean: 0.7734443197538624, Std: 0.015793656323519624                                                                    \n",
      "mean: 0.7750385527172481, Std: 0.012205536082764699                                                                    \n",
      "mean: 0.7718812851238999, Std: 0.008365688619768406                                                                    \n",
      "mean: 0.77190147999945, Std: 0.017268533956125223                                                                      \n",
      "mean: 0.7826877242399741, Std: 0.016050532856283613                                                                    \n",
      "mean: 0.7629529506887627, Std: 0.01726756151329856                                                                     \n",
      "mean: 0.7722612574559206, Std: 0.012171712491396789                                                                    \n",
      "mean: 0.7728780446961584, Std: 0.01210018937540461                                                                     \n",
      "mean: 0.7747729576120059, Std: 0.01784584924002597                                                                     \n",
      "mean: 0.7695872172436246, Std: 0.013104238391181766                                                                    \n",
      "mean: 0.7711354681249633, Std: 0.011707472415116741                                                                    \n",
      "mean: 0.7458839069586093, Std: 0.009975277597567474                                                                    \n",
      "mean: 0.7631295246331243, Std: 0.01601518168047124                                                                     \n",
      "mean: 0.7738562652226997, Std: 0.016522624364503972                                                                    \n",
      "mean: 0.7718612089682242, Std: 0.007373000259629666                                                                    \n",
      "100%|███████████████████████████████████████████████| 20/20 [03:09<00:00,  9.49s/trial, best loss: -0.7826877242399741]\n"
     ]
    }
   ],
   "source": [
    "#for scaled dataset\n",
    "X_train,X_test,y_train,y_test = train_test_split(df_scaled,label,test_size=0.2,random_state=42)\n",
    "trials_scaled = Trials()\n",
    "best_scaled = fmin(lgb_optimizer, lgb_space, algo=tpe.suggest, max_evals=20, trials=trials_scaled)"
   ]
  },
  {
   "cell_type": "code",
   "execution_count": 9,
   "metadata": {},
   "outputs": [
    {
     "name": "stdout",
     "output_type": "stream",
     "text": [
      "mean: 0.7556790901808667, Std: 0.017191758097012653                                                                    \n",
      "mean: 0.7693387302971871, Std: 0.013241904437937397                                                                    \n",
      "mean: 0.775091676737028, Std: 0.006264268835771365                                                                     \n",
      "mean: 0.7512313562933406, Std: 0.019723296194634834                                                                    \n",
      "mean: 0.7642284895207841, Std: 0.007357532261403563                                                                    \n",
      "mean: 0.7570160259334193, Std: 0.017369838286645685                                                                    \n",
      "mean: 0.7800906270033978, Std: 0.01377275678014378                                                                     \n",
      "mean: 0.7601200507871128, Std: 0.008949656580634999                                                                    \n",
      "mean: 0.768041553205874, Std: 0.013167533012010648                                                                     \n",
      "mean: 0.775401954254108, Std: 0.02004302071227557                                                                      \n",
      "mean: 0.7601795419412323, Std: 0.014321642810747418                                                                    \n",
      "mean: 0.7739588891818702, Std: 0.006963381652690117                                                                    \n",
      "mean: 0.7855711238273287, Std: 0.007199779740052417                                                                    \n",
      "mean: 0.768400518368464, Std: 0.013560537269338802                                                                     \n",
      "mean: 0.7747824364567492, Std: 0.007932909665335969                                                                    \n",
      "mean: 0.758088978671662, Std: 0.004760476947865791                                                                     \n",
      "mean: 0.7712008952728245, Std: 0.013114350446721127                                                                    \n",
      "mean: 0.7557512281258629, Std: 0.008156622819357941                                                                    \n",
      "mean: 0.766531905029099, Std: 0.01378426749134896                                                                      \n",
      "mean: 0.7586577093562508, Std: 0.01052890634621811                                                                     \n",
      "100%|███████████████████████████████████████████████| 20/20 [03:03<00:00,  9.16s/trial, best loss: -0.7855711238273287]\n"
     ]
    }
   ],
   "source": [
    "#for transformed dataset\n",
    "X_train,X_test,y_train,y_test = train_test_split(df_transformed,label,test_size=0.2,random_state=42)\n",
    "trials_transformed = Trials()\n",
    "best_transformed = fmin(lgb_optimizer, lgb_space, algo=tpe.suggest, max_evals=20, trials=trials_transformed)"
   ]
  },
  {
   "cell_type": "code",
   "execution_count": 10,
   "metadata": {},
   "outputs": [],
   "source": [
    "def model_trainer(Data,label,params,classifier='lgb',test_size=0.2):\n",
    "    '''A function to train a model. \n",
    "    parameters:\n",
    "    Data :=pandas dataset or numpy array of features\n",
    "    label:=pandas dataset or numpy array of labels for features \n",
    "    params:=python dict parametes for the model\n",
    "    model:=keras model object or sklearn classifier object\n",
    "    test_size:=Float (0,1) fraction for test split\n",
    "    return\n",
    "    model:=str 'keras','lgb'\n",
    "    train_score:=float balanced accuracy train score\n",
    "    test_score:=float balanced accuracy test score\n",
    "    returns-trained model,train_score,test_score\n",
    "    '''\n",
    "    X_train,X_test,y_train,y_test = train_test_split(Data,label,test_size=test_size,random_state=42)\n",
    "    if classifier=='lgb':\n",
    "        if 'num_leaves' in params:\n",
    "            params['num_leaves']=int(params['num_leaves'])\n",
    "        if 'max_depth' in params:\n",
    "            #max_depth=[-1,9,12]#max_depth choice list\n",
    "            params['max_depth']=-1#int(params['max_depth'])#best returns an index corresponding the choice\n",
    "        clf = lgb.LGBMClassifier(n_estimators=5000,**params)\n",
    "        clf.fit(X_train,y_train,eval_set=(X_test,y_test),early_stopping_rounds =200,eval_metric='auc',verbose=False)\n",
    "        train_pred=clf.predict(X_train)\n",
    "        test_pred=clf.predict(X_test)\n",
    "    elif classifier=='keras':\n",
    "        opt=['adam','sgd']\n",
    "        if 'optimizer' in params:\n",
    "            params['optimizer'] =opt[params['optimizer']]\n",
    "        clf = model(feature_size=X_train.shape[-1],**params)\n",
    "        clf.fit(X_train,y_train,epochs=20,batch_size=128,verbose=0)\n",
    "        train_pred=np.round(clf.predict(X_train))\n",
    "        test_pred=np.round(clf.predict(X_test))\n",
    "    train_score = balanced_accuracy_score(train_pred,y_train)\n",
    "    test_score= balanced_accuracy_score(test_pred,y_test)\n",
    "    return clf,train_score,test_score\n",
    "        \n",
    "    "
   ]
  },
  {
   "cell_type": "code",
   "execution_count": 11,
   "metadata": {},
   "outputs": [
    {
     "name": "stdout",
     "output_type": "stream",
     "text": [
      "{'colsample_bytree': 0.4689966115050747, 'lr': 0.004186154212450494, 'max_depth': 2, 'num_leaves': 19.0}\n",
      "{'colsample_bytree': 0.7188856959407939, 'lr': 0.0050239777912343825, 'max_depth': 2, 'num_leaves': 40.0}\n",
      "{'colsample_bytree': 0.8825849809832234, 'lr': 0.05750543680313465, 'max_depth': 2, 'num_leaves': 16.0}\n"
     ]
    }
   ],
   "source": [
    "print(best_e)\n",
    "print(best_scaled)\n",
    "print(best_transformed)"
   ]
  },
  {
   "cell_type": "code",
   "execution_count": 12,
   "metadata": {},
   "outputs": [],
   "source": [
    "clf_encoded,lgb_train_encoded,lgb_test_encoded=model_trainer(df_encoded,label,best_e)\n",
    "clf_scaled,lgb_train_scaled,lgb_test_scaled=model_trainer(df_scaled,label,best_scaled)\n",
    "clf_transformed,lgb_train_transformed,lgb_test_transformed=model_trainer(df_transformed,label,best_transformed)"
   ]
  },
  {
   "cell_type": "code",
   "execution_count": 13,
   "metadata": {
    "scrolled": true
   },
   "outputs": [
    {
     "name": "stdout",
     "output_type": "stream",
     "text": [
      "results\n",
      "| Dataset Type | Train Score | Test Score |\n",
      "| Encoded      | 0.894319       | 0.811391     |\n",
      "| Scaled       | 0.909196       | 0.845628     |\n",
      "| Transformed  | 0.909196       | 0.845628     |\n"
     ]
    }
   ],
   "source": [
    "print(\"results\")\n",
    "print(\"| Dataset Type | Train Score | Test Score |\")\n",
    "print(\"| Encoded      | {:2f}       | {:2f}     |\".format(lgb_train_encoded,lgb_test_encoded))\n",
    "print(\"| Scaled       | {:2f}       | {:2f}     |\".format(lgb_train_scaled,lgb_test_scaled))\n",
    "print(\"| Transformed  | {:2f}       | {:2f}     |\".format(lgb_train_scaled,lgb_test_scaled))"
   ]
  },
  {
   "cell_type": "markdown",
   "metadata": {},
   "source": [
    "### optimization and selection for neural network"
   ]
  },
  {
   "cell_type": "code",
   "execution_count": 14,
   "metadata": {
    "scrolled": true
   },
   "outputs": [],
   "source": [
    "\n",
    "from tensorflow.python.keras.models import Sequential\n",
    "from tensorflow.python.keras.layers import Dense, Dropout\n",
    "from tensorflow.python.keras.optimizers import Adam, SGD\n",
    "from tensorflow.python.keras.callbacks import EarlyStopping"
   ]
  },
  {
   "cell_type": "code",
   "execution_count": 15,
   "metadata": {},
   "outputs": [],
   "source": [
    "skf = StratifiedKFold(n_splits=5, random_state=None, shuffle=True)"
   ]
  },
  {
   "cell_type": "code",
   "execution_count": 16,
   "metadata": {},
   "outputs": [],
   "source": [
    "def model(feature_size,lr=0.1,optimizer='adam',hl_size=128):\n",
    "    ''' function to define keras model\n",
    "    :feature:=\n",
    "    '''\n",
    "    if optimizer=='adam':\n",
    "        opt =Adam(lr=lr)\n",
    "    elif optimizer=='sgd':\n",
    "        opt = SGD(lr=lr)\n",
    "    hl_size=int(hl_size)\n",
    "    model =Sequential()\n",
    "    model.add(Dense(hl_size,activation='relu',input_shape=(feature_size,)))\n",
    "    model.add(Dropout(0.25))\n",
    "    model.add(Dense(hl_size,activation='relu'))\n",
    "    model.add(Dense(1,activation='sigmoid'))\n",
    "    model.compile(optimizer=opt,loss='binary_crossentropy',metrics=['acc'])\n",
    "    return model\n",
    "    "
   ]
  },
  {
   "cell_type": "code",
   "execution_count": 17,
   "metadata": {},
   "outputs": [],
   "source": [
    "def keras_optimizer(params):\n",
    "    val_score=[]\n",
    "    true_scores=[]\n",
    "    rd=1\n",
    "    for train_index, test_index in skf.split(X_train, y_train):\n",
    "        X_tr, X_val = X_train.iloc[train_index], X_train.iloc[test_index]\n",
    "        y_tr, y_val = y_train.iloc[train_index], y_train.iloc[test_index]\n",
    "        nn_model = model(X_train.shape[1],**params)\n",
    "        cb = EarlyStopping(monitor='val_acc',min_delta=0.001,patience=3)\n",
    "        nn_model.fit(X_tr,y_tr,validation_data=(X_val,y_val),batch_size=128,callbacks=[cb],epochs=50,verbose=0)\n",
    "        #_,score= nn_model.evaluate(X_val,y_val)\n",
    "        #_,true_score=nn_model.evaluate(X_tr,y_tr)\n",
    "        cv_pred = np.round(nn_model.predict(X_val))\n",
    "        score=balanced_accuracy_score(y_val,cv_pred)\n",
    "        y_tr_pred = np.round(nn_model.predict(X_tr))\n",
    "        true_score=balanced_accuracy_score(y_tr,y_tr_pred)\n",
    "        \n",
    "        val_score.append(score)\n",
    "        true_scores.append(true_score)\n",
    "        rd+=1\n",
    "    mean,std =np.mean(val_score),np.std(val_score)\n",
    "    true_mean=np.mean(true_scores)\n",
    "    print(\"mean: {}, Std: {}\".format(mean,std))\n",
    "    return {'loss':-mean,'status': STATUS_OK,'true_loss':-true_mean}"
   ]
  },
  {
   "cell_type": "code",
   "execution_count": 18,
   "metadata": {},
   "outputs": [],
   "source": [
    "keras_space = {'lr':hp.loguniform('lr',-10,-2.3),'optimizer':hp.choice('optimizer',['adam','sgd'])}"
   ]
  },
  {
   "cell_type": "code",
   "execution_count": 20,
   "metadata": {},
   "outputs": [
    {
     "name": "stdout",
     "output_type": "stream",
     "text": [
      "mean: 0.7086648325487408, Std: 0.07723872840502996                                                                     \n",
      "mean: 0.6171397695334809, Std: 0.04880126245239854                                                                     \n",
      "mean: 0.5454720677128179, Std: 0.0729035793995225                                                                      \n",
      "mean: 0.5799615472573834, Std: 0.03360333448674164                                                                     \n",
      "mean: 0.5009075009716284, Std: 0.001186335657067173                                                                    \n",
      "mean: 0.5004847769878393, Std: 0.001178616909500873                                                                    \n",
      "mean: 0.6623623880440338, Std: 0.0697524958173388                                                                      \n",
      "mean: 0.6592444417229129, Std: 0.06523394754834763                                                                     \n",
      "mean: 0.5988328961526014, Std: 0.01362868076363621                                                                     \n",
      "mean: 0.5055332146967707, Std: 0.008892574707972861                                                                    \n",
      "100%|███████████████████████████████████████████████| 10/10 [08:33<00:00, 51.40s/trial, best loss: -0.7086648325487408]\n"
     ]
    }
   ],
   "source": [
    "X_train,X_test,y_train,y_test = train_test_split(df_encoded,label,test_size=0.2,random_state=42)\n",
    "best_nn_encoded=fmin(keras_optimizer,keras_space,algo=tpe.suggest,max_evals=10)"
   ]
  },
  {
   "cell_type": "code",
   "execution_count": 21,
   "metadata": {},
   "outputs": [
    {
     "name": "stdout",
     "output_type": "stream",
     "text": [
      "mean: 0.7219638704178815, Std: 0.021954436950303195                                                                    \n",
      "mean: 0.7354628887919691, Std: 0.013861708043929562                                                                    \n",
      "mean: 0.501937033477755, Std: 0.0026214705544049923                                                                    \n",
      "mean: 0.7171683185391707, Std: 0.026080430368878662                                                                    \n",
      "mean: 0.7273322894315568, Std: 0.01796457474690111                                                                     \n",
      "mean: 0.5021870700309796, Std: 0.00423234901273516                                                                     \n",
      "mean: 0.5, Std: 0.0                                                                                                    \n",
      "mean: 0.7375225973909121, Std: 0.014545876306617859                                                                    \n",
      "mean: 0.5, Std: 0.0                                                                                                    \n",
      "mean: 0.5, Std: 0.0                                                                                                    \n",
      "100%|██████████████████████████████████████████████| 10/10 [24:17<00:00, 145.77s/trial, best loss: -0.7375225973909121]\n"
     ]
    }
   ],
   "source": [
    "X_train,X_test,y_train,y_test = train_test_split(df_scaled,label,test_size=0.2,random_state=42)\n",
    "best_nn_scaled=fmin(keras_optimizer,keras_space,algo=tpe.suggest,max_evals=10)"
   ]
  },
  {
   "cell_type": "code",
   "execution_count": 22,
   "metadata": {},
   "outputs": [
    {
     "name": "stdout",
     "output_type": "stream",
     "text": [
      "mean: 0.5010472842516212, Std: 0.001413357299691906                                                                    \n",
      "mean: 0.7747693585252742, Std: 0.011767663859868202                                                                    \n",
      "mean: 0.7774581574925363, Std: 0.017763871163451114                                                                    \n",
      "mean: 0.5104811279137919, Std: 0.0035720522366064567                                                                   \n",
      "mean: 0.5060905357765467, Std: 0.012332225726712694                                                                    \n",
      "mean: 0.5, Std: 0.0                                                                                                    \n",
      "mean: 0.794206551337598, Std: 0.015221384021555906                                                                     \n",
      "mean: 0.5, Std: 0.0                                                                                                    \n",
      "mean: 0.501289285343844, Std: 0.0012067107918905498                                                                    \n",
      "mean: 0.7914077615305116, Std: 0.010733455198098433                                                                    \n",
      "100%|███████████████████████████████████████████████| 10/10 [34:07<00:00, 204.79s/trial, best loss: -0.794206551337598]\n"
     ]
    }
   ],
   "source": [
    "X_train,X_test,y_train,y_test = train_test_split(df_transformed,label,test_size=0.2,random_state=42)\n",
    "best_nn_transformed=fmin(keras_optimizer,keras_space,algo=tpe.suggest,max_evals=10)"
   ]
  },
  {
   "cell_type": "code",
   "execution_count": 23,
   "metadata": {},
   "outputs": [
    {
     "name": "stdout",
     "output_type": "stream",
     "text": [
      "{'lr': 0.0007622296280598096, 'optimizer': 0}\n",
      "{'lr': 0.015542263054046233, 'optimizer': 0}\n",
      "{'lr': 0.009366074941875552, 'optimizer': 0}\n"
     ]
    }
   ],
   "source": [
    "print(best_nn_encoded)\n",
    "print(best_nn_scaled)\n",
    "print(best_nn_transformed)"
   ]
  },
  {
   "cell_type": "code",
   "execution_count": 24,
   "metadata": {},
   "outputs": [],
   "source": [
    "_,nn_train_encoded,nn_test_encoded=model_trainer(df_encoded,label,best_nn_encoded,'keras')\n",
    "_,nn_train_scaled,nn_test_scaled=model_trainer(df_scaled,label,best_nn_scaled,'keras')\n",
    "_,nn_train_transformed,nn_test_transformed=model_trainer(df_transformed,label,best_nn_transformed,'keras')"
   ]
  },
  {
   "cell_type": "code",
   "execution_count": 25,
   "metadata": {},
   "outputs": [
    {
     "name": "stdout",
     "output_type": "stream",
     "text": [
      "|              |        neural network            |       Boosted Trees       |\n",
      "| Dataset Type | Train Score     | Test Score     |Train Score   | Test Score |\n",
      "| Encoded      | 0.7690          | 0.7374         | 0.8943       | 0.8114     |\n",
      "| Scaled       | 0.8696          | 0.7937         | 0.9092       | 0.8456     |\n",
      "| Transformed  | 0.8696          | 0.7937         | 0.9092       | 0.8456     |\n"
     ]
    }
   ],
   "source": [
    "print(\"|              |        neural network            |       Boosted Trees       |\")\n",
    "print(\"| Dataset Type | Train Score     | Test Score     |Train Score   | Test Score |\")\n",
    "print(\"| Encoded      | {:.4f}          | {:.4f}         | {:.4f}       | {:.4f}     |\".format(nn_train_encoded,nn_test_encoded,lgb_train_encoded,lgb_test_encoded))\n",
    "print(\"| Scaled       | {:.4f}          | {:.4f}         | {:.4f}       | {:.4f}     |\".format(nn_train_scaled,nn_test_scaled,lgb_train_scaled,lgb_test_scaled))\n",
    "print(\"| Transformed  | {:.4f}          | {:.4f}         | {:.4f}       | {:.4f}     |\".format(nn_train_scaled,nn_test_scaled,lgb_train_scaled,lgb_test_scaled))"
   ]
  },
  {
   "cell_type": "markdown",
   "metadata": {},
   "source": [
    "The best result for both tree based model and neural network model are obtained on the feature set that is not scaled or transfromed. Both models perform equally well with the neural netwrok performing 1 percent better than the gradient boosted trees."
   ]
  },
  {
   "cell_type": "code",
   "execution_count": 26,
   "metadata": {},
   "outputs": [
    {
     "data": {
      "text/plain": [
       "['lgb_best.pkl']"
      ]
     },
     "execution_count": 26,
     "metadata": {},
     "output_type": "execute_result"
    }
   ],
   "source": [
    "#Save the model\n",
    "from sklearn.externals import joblib\n",
    "joblib.dump(clf_encoded, 'lgb_best.pkl')"
   ]
  },
  {
   "cell_type": "code",
   "execution_count": 27,
   "metadata": {},
   "outputs": [
    {
     "data": {
      "text/plain": [
       "<AxesSubplot:title={'center':'Feature importance'}, xlabel='Feature importance', ylabel='Features'>"
      ]
     },
     "execution_count": 27,
     "metadata": {},
     "output_type": "execute_result"
    },
    {
     "data": {
      "image/png": "[encoded data removed]",
      "text/plain": [
       "<Figure size 432x288 with 1 Axes>"
      ]
     },
     "metadata": {
      "needs_background": "light"
     },
     "output_type": "display_data"
    }
   ],
   "source": [
    "#feature importance for the best tree based model\n",
    "%matplotlib inline\n",
    "lgb.plot_importance(clf_encoded,max_num_features=10)"
   ]
  },
  {
   "cell_type": "markdown",
   "metadata": {},
   "source": [
    "## Conclusion\n",
    "\n",
    "The top 10 features affecting the buying intentions were identified. These features can be further isolated depending upon the applications. For eg. Exit would be a good measure of how well personalized webpages are working for users. A simple A/B test can be carried out with and without personalization and exit rates as well as other features can be monitored. Change in these features would indicate a change in buying intent and tell us if the test was succesfull. "
   ]
  },
  {
   "cell_type": "code",
   "execution_count": null,
   "metadata": {},
   "outputs": [],
   "source": []
  }
 ],
 "metadata": {
  "kernelspec": {
   "display_name": "Python 3",
   "language": "python",
   "name": "python3"
  },
  "language_info": {
   "codemirror_mode": {
    "name": "ipython",
    "version": 3
   },
   "file_extension": ".py",
   "mimetype": "text/x-python",
   "name": "python",
   "nbconvert_exporter": "python",
   "pygments_lexer": "ipython3",
   "version": "3.7.6"
  }
 },
 "nbformat": 4,
 "nbformat_minor": 2
}
